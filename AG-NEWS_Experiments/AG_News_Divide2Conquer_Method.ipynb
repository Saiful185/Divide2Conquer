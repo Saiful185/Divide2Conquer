{
 "cells": [
  {
   "cell_type": "markdown",
   "metadata": {
    "id": "_OrIyyyg6tio"
   },
   "source": [
    "# **Divide2Conquer (D2C)**\n",
    "This notebook contains the code and implementation details (for text classification using AG News dataset in this case) on our proposed method, **Divide2Conquer (D2C)** to address the issue of **Overfitting** in Deep Learning models. We propose partitioning the training data into multiple subsets and training separate identical models on them. To avoid overfitting on any specific subset, the trained parameters from these models are aggregated and scaled periodically throughout the training phase, enabling the model to learn from the entire dataset while mitigating the impact of individual outliers or noise."
   ]
  },
  {
   "cell_type": "markdown",
   "metadata": {
    "id": "D5OjCI-e5GcG"
   },
   "source": [
    "## **Importing Necessary Packages & Mounting Drive**"
   ]
  },
  {
   "cell_type": "code",
   "execution_count": null,
   "metadata": {
    "colab": {
     "base_uri": "https://localhost:8080/"
    },
    "id": "rUaRdlR-UwP3",
    "outputId": "711d7e66-634b-4491-97b7-a8f6ccc62764"
   },
   "outputs": [
    {
     "name": "stdout",
     "output_type": "stream",
     "text": [
      "Mounted at /content/drive\n"
     ]
    }
   ],
   "source": [
    "from google.colab import drive\n",
    "drive.mount('/content/drive')"
   ]
  },
  {
   "cell_type": "code",
   "execution_count": 1,
   "metadata": {
    "id": "NjC8NC7_Tb0O"
   },
   "outputs": [],
   "source": [
    "import sys\n",
    "import pandas as pd\n",
    "import json\n",
    "import csv\n",
    "import random\n",
    "import numpy as np\n",
    "import os\n",
    "from imutils import paths\n",
    "from sklearn.model_selection import train_test_split\n",
    "from sklearn.preprocessing import LabelBinarizer\n",
    "from sklearn.model_selection import train_test_split\n",
    "from sklearn.utils import shuffle\n",
    "import sklearn.metrics\n",
    "from sklearn.metrics import ConfusionMatrixDisplay\n",
    "from sklearn.metrics import roc_auc_score, cohen_kappa_score, f1_score, matthews_corrcoef, log_loss, accuracy_score\n",
    "\n",
    "import tensorflow as tf\n",
    "from tensorflow.keras.models import Sequential\n",
    "from tensorflow.keras.layers import Conv2D\n",
    "from tensorflow.keras.layers import MaxPooling2D\n",
    "from tensorflow.keras.layers import Activation\n",
    "from tensorflow.keras.layers import Flatten\n",
    "from tensorflow.keras.layers import GlobalAveragePooling2D\n",
    "from tensorflow.keras.layers import Dense\n",
    "from tensorflow.keras.layers import BatchNormalization\n",
    "from tensorflow.keras.layers import Dropout\n",
    "from tensorflow.keras.optimizers.legacy import SGD\n",
    "from tensorflow.keras import backend as K\n",
    "from tensorflow.keras.layers import Conv1D\n",
    "from tensorflow.keras.layers import Bidirectional\n",
    "from tensorflow.keras.layers import LSTM\n",
    "from tensorflow.keras.layers import Embedding\n",
    "from tensorflow.keras.preprocessing.text import Tokenizer\n",
    "from tensorflow.keras.preprocessing.sequence import pad_sequences\n",
    "from tensorflow.keras.utils import to_categorical\n",
    "from tensorflow.keras import regularizers\n",
    "import matplotlib.pyplot as plt\n",
    "from matplotlib.pyplot import specgram\n",
    "import seaborn as sns\n",
    "\n",
    "sys.path.append('/content/drive/MyDrive/IAR Research Grant/Codes/Refined Codes')\n",
    "from d2c_utils import *"
   ]
  },
  {
   "cell_type": "markdown",
   "metadata": {
    "id": "YopxDkEu5f2C"
   },
   "source": [
    "## **Creating Necessary Functions**"
   ]
  },
  {
   "cell_type": "code",
   "execution_count": null,
   "metadata": {
    "id": "siaaMdPsTb0R"
   },
   "outputs": [],
   "source": [
    "def create_subsets(seq_list, label_list, num_subsets=3, initial='subset'):\n",
    "    ''' return: a dictionary with keys subset names and value as\n",
    "                data shards - tuple of sequence and label lists.\n",
    "        args:\n",
    "            seq_list: a list of numpy arrays of inputs\n",
    "            label_list:a list of binarized labels for each sequence\n",
    "            num_subsets: number of training subsets\n",
    "            initials: the subset name prefix, e.g, subset_1\n",
    "\n",
    "    '''\n",
    "\n",
    "    #create a list of subset no.\n",
    "    subset_no = ['{}_{}'.format(initial, i+1) for i in range(num_subsets)]\n",
    "\n",
    "    #randomize the data\n",
    "    data = list(zip(seq_list, label_list))\n",
    "    random.shuffle(data)\n",
    "\n",
    "    #shard data and place at each subset\n",
    "    size = len(data)//num_subsets\n",
    "    shards = [data[i:i + size] for i in range(0, size*num_subsets, size)]\n",
    "\n",
    "    #number of subsets must equal number of shards\n",
    "    assert(len(shards) == len(subset_no))\n",
    "\n",
    "    return {subset_no[i] : shards[i] for i in range(len(subset_no))}"
   ]
  },
  {
   "cell_type": "code",
   "execution_count": null,
   "metadata": {
    "id": "cLwc9HaeTb0R"
   },
   "outputs": [],
   "source": [
    "def batch_data(data_shard, bs=32):\n",
    "    '''Takes in a subsets' data shard and creates a tfds object off it\n",
    "    args:\n",
    "        shard: a data, label constituting a subsets' data shard\n",
    "        bs:batch size\n",
    "    return:\n",
    "        tfds object'''\n",
    "    #seperate shard into data and labels lists\n",
    "    data, label = zip(*data_shard)\n",
    "    dataset = tf.data.Dataset.from_tensor_slices((list(data), list(label)))\n",
    "    return dataset.shuffle(len(label)).batch(bs)"
   ]
  },
  {
   "cell_type": "markdown",
   "metadata": {
    "id": "8dQ9Gfn79yuP"
   },
   "source": [
    "### **Data Preprocessing**"
   ]
  },
  {
   "cell_type": "code",
   "execution_count": null,
   "metadata": {
    "id": "259qlesx99y2"
   },
   "outputs": [],
   "source": [
    "embedding_dim = 100\n",
    "max_length = 80\n",
    "trunc_type='post'\n",
    "padding_type='post'\n",
    "oov_tok = \"<OOV>\"\n",
    "training_size = 120000 # Dataset Size\n",
    "val_portion = .1\n",
    "\n",
    "corpus = []"
   ]
  },
  {
   "cell_type": "code",
   "execution_count": null,
   "metadata": {
    "id": "60JIpeps-GoY"
   },
   "outputs": [],
   "source": [
    "num_sentences = 0\n",
    "\n",
    "with open(\"/content/drive/MyDrive/IAR Research Grant/Data/Text Datasets/AG_train.csv\", encoding=\"utf8\") as csvfile:\n",
    "    reader = csv.reader(csvfile, delimiter=',')\n",
    "    next(reader)\n",
    "    for row in reader:\n",
    "        list_item=[]\n",
    "\n",
    "        #Creating list items where the first item is the text, found in row[0], and the second is the label.\n",
    "        sentence = row[0]\n",
    "        list_item.append(sentence)\n",
    "        list_item.append(int(row[1]))\n",
    "\n",
    "        num_sentences = num_sentences + 1\n",
    "        corpus.append(list_item)"
   ]
  },
  {
   "cell_type": "code",
   "execution_count": null,
   "metadata": {
    "id": "epBGUnnn-rUI"
   },
   "outputs": [],
   "source": [
    "sentences=[]\n",
    "labels=[]\n",
    "random.shuffle(corpus)\n",
    "for x in range(training_size):\n",
    "    sentences.append(corpus[x][0])\n",
    "    labels.append(corpus[x][1])\n",
    "\n",
    "\n",
    "tokenizer = Tokenizer()\n",
    "tokenizer.fit_on_texts(sentences)\n",
    "\n",
    "word_index = tokenizer.word_index\n",
    "vocab_size=len(word_index)\n",
    "\n",
    "sequences = tokenizer.texts_to_sequences(sentences)\n",
    "padded = pad_sequences(sequences, padding='post', maxlen = max_length, truncating=trunc_type)\n",
    "\n",
    "split = int(val_portion * training_size)\n",
    "\n",
    "val_sequences = np.array(padded[0:split])\n",
    "training_sequences = np.array(padded[split:training_size])\n",
    "val_labels = np.array(labels[0:split])\n",
    "training_labels = np.array(labels[split:training_size])"
   ]
  },
  {
   "cell_type": "code",
   "execution_count": null,
   "metadata": {
    "colab": {
     "base_uri": "https://localhost:8080/"
    },
    "id": "TPUWu4gC-4J2",
    "outputId": "5681ab6b-355b-4328-e4bc-05de0114e146"
   },
   "outputs": [
    {
     "data": {
      "text/plain": [
       "70344"
      ]
     },
     "execution_count": 31,
     "metadata": {},
     "output_type": "execute_result"
    }
   ],
   "source": [
    "print(vocab_size)\n",
    "#print(word_index)\n",
    "#print(sequences[0])\n",
    "#print(padded[0])\n",
    "#print(training_sequences[0])\n",
    "#print(training_labels[0])"
   ]
  },
  {
   "cell_type": "code",
   "execution_count": null,
   "metadata": {
    "id": "Jwoowuj6-08z"
   },
   "outputs": [],
   "source": [
    "# Note that this is the 100 dimension version of GloVe from Stanford\n",
    "\n",
    "# glove.6B.100d.txt\n",
    "#!gdown --id 1W5vZy2etitAblLdFn8_DxnsQKzfFJ98g\n",
    "\n",
    "embeddings_index = {};\n",
    "with open('/content/drive/MyDrive/IAR Research Grant/Codes/Text Classification Codes/glove.6B.100d.txt', encoding=\"utf8\") as f:\n",
    "    for line in f:\n",
    "        values = line.split();\n",
    "        word = values[0];\n",
    "        coefs = np.asarray(values[1:], dtype='float32');\n",
    "        embeddings_index[word] = coefs;\n",
    "\n",
    "embeddings_matrix = np.zeros((vocab_size+1, embedding_dim));\n",
    "for word, i in word_index.items():\n",
    "    embedding_vector = embeddings_index.get(word);\n",
    "    if embedding_vector is not None:\n",
    "        embeddings_matrix[i] = embedding_vector;"
   ]
  },
  {
   "cell_type": "code",
   "execution_count": null,
   "metadata": {
    "id": "0WA0Wgt4-589"
   },
   "outputs": [],
   "source": [
    "#binarize the labels\n",
    "lb = LabelBinarizer()\n",
    "y_train = lb.fit_transform(training_labels)\n",
    "y_val = lb.fit_transform(val_labels)"
   ]
  },
  {
   "cell_type": "markdown",
   "metadata": {
    "id": "T28MmzMt-ya0"
   },
   "source": [
    "# **Setting Hyperparameter Values**\n",
    "The new global hyperparameters that need tuning, in this case, are the **Number of Subsets of the Training Set** and the **Number of Epochs before each round of Global Averaging**. To refer to them concisely, we will use the variables **N** and **E** respectively."
   ]
  },
  {
   "cell_type": "code",
   "execution_count": null,
   "metadata": {
    "id": "L7PJZrsx_TlF"
   },
   "outputs": [],
   "source": [
    "# Setting the Number of Subsets of the Training Set, N\n",
    "N = 5\n",
    "\n",
    "# Setting the Number of Epochs before each round of Global Averaging, E\n",
    "E = 2"
   ]
  },
  {
   "cell_type": "markdown",
   "metadata": {
    "id": "gEkkcwxo_MaX"
   },
   "source": [
    "# **Creating Subsets**"
   ]
  },
  {
   "cell_type": "code",
   "execution_count": null,
   "metadata": {
    "id": "LyrhSswN-50F"
   },
   "outputs": [],
   "source": [
    "#create subsets\n",
    "subsets = create_subsets(training_sequences, y_train, num_subsets=N, initial='subset')"
   ]
  },
  {
   "cell_type": "code",
   "execution_count": null,
   "metadata": {
    "id": "xXVvfBav_Nr0"
   },
   "outputs": [],
   "source": [
    "#process and batch the training data for each subset\n",
    "subsets_batched = dict()\n",
    "for (subset_no, data) in subsets.items():\n",
    "    subsets_batched[subset_no] = batch_data(data)\n",
    "\n",
    "#process and batch the train set\n",
    "train_batched = tf.data.Dataset.from_tensor_slices((training_sequences, y_train)).batch(len(y_train))\n",
    "#process and batch the validation set\n",
    "val_batched = tf.data.Dataset.from_tensor_slices((val_sequences, y_val)).batch(len(y_val))"
   ]
  },
  {
   "cell_type": "markdown",
   "metadata": {
    "id": "gOyEqwEiBxhC"
   },
   "source": [
    "# **Constructing the Deep Learning Model**\n",
    "The Network Architecture is shown in the picture below..\n",
    "<div style=\"text-align: center;\">\n",
    "    <img src=\"LSTM_Horizontal.png\" alt=\"The Bi-LSTM based Model\" width=\"1200\"/>\n",
    "</div>"
   ]
  },
  {
   "cell_type": "code",
   "execution_count": null,
   "metadata": {
    "id": "G4MZnlSO_TQx"
   },
   "outputs": [],
   "source": [
    "class RNNModel:\n",
    "    @staticmethod\n",
    "    def build(classes):\n",
    "        model = Sequential()\n",
    "        model.add(Embedding(vocab_size+1, embedding_dim, input_length=max_length, weights=[embeddings_matrix], trainable=False))\n",
    "        #model.add(Dropout(0.1))\n",
    "        model.add(Bidirectional(LSTM(128, return_sequences=True)))\n",
    "        model.add(BatchNormalization())\n",
    "        model.add(Dropout(0.2))\n",
    "        model.add(Bidirectional(LSTM(64, return_sequences=True)))\n",
    "        model.add(BatchNormalization())\n",
    "        model.add(Dropout(0.2))\n",
    "        model.add(Bidirectional(LSTM(32)))\n",
    "        model.add(BatchNormalization())\n",
    "        model.add(Dropout(0.2))\n",
    "        model.add(Dense(128))\n",
    "        model.add(Activation(\"relu\"))\n",
    "        model.add(BatchNormalization())\n",
    "        model.add(Dropout(0.3))\n",
    "        model.add(Dense(64))\n",
    "        model.add(Activation(\"relu\"))\n",
    "        model.add(BatchNormalization())\n",
    "        model.add(Dropout(0.4))\n",
    "        model.add(Dense(4))\n",
    "        #model.add(Activation(\"softmax\"))\n",
    "        return model"
   ]
  },
  {
   "cell_type": "code",
   "execution_count": null,
   "metadata": {
    "id": "_cyxHkbl_Z6X"
   },
   "outputs": [],
   "source": [
    "lr = 0.001\n",
    "comms_round = 25\n",
    "loss=tf.keras.losses.CategoricalCrossentropy(from_logits=True)\n",
    "metrics = ['accuracy']\n",
    "optimizer=tf.keras.optimizers.legacy.Adam(learning_rate=0.001, epsilon=0.001, amsgrad=True)\n",
    "\n",
    "Accu = []\n",
    "Loss = []\n",
    "Tr_Accu = []\n",
    "Tr_Loss =[]"
   ]
  },
  {
   "cell_type": "markdown",
   "metadata": {},
   "source": [
    "# **Training The Subset Models And Central Averaging**\n",
    "The whole process is summarized in the picture below..\n",
    "<div style=\"text-align: center;\">\n",
    "    <img src=\"D2C_Method.png\" alt=\"D2C Method at a Glance\" width=\"600\"/>\n",
    "</div>"
   ]
  },
  {
   "cell_type": "code",
   "execution_count": null,
   "metadata": {
    "colab": {
     "background_save": true,
     "base_uri": "https://localhost:8080/"
    },
    "id": "YxXiErB0_huH",
    "outputId": "a5355c97-29cb-4eeb-ae7e-e01cbcf261fc"
   },
   "outputs": [
    {
     "name": "stdout",
     "output_type": "stream",
     "text": [
      "3375/3375 [==============================] - 32s 9ms/step\n",
      "comm_round: 0 | global_training_acc: 62.957% | global_training_loss: 0.9628766775131226\n",
      "375/375 [==============================] - 3s 9ms/step\n",
      "comm_round: 0 | global_acc: 62.400% | global_loss: 0.9699033498764038\n",
      "3375/3375 [==============================] - 31s 9ms/step\n",
      "comm_round: 1 | global_training_acc: 89.785% | global_training_loss: 0.32263562083244324\n",
      "375/375 [==============================] - 3s 9ms/step\n",
      "comm_round: 1 | global_acc: 89.458% | global_loss: 0.3296586871147156\n",
      "3375/3375 [==============================] - 31s 9ms/step\n",
      "comm_round: 2 | global_training_acc: 90.509% | global_training_loss: 0.3005167841911316\n",
      "375/375 [==============================] - 3s 9ms/step\n",
      "comm_round: 2 | global_acc: 90.150% | global_loss: 0.31083035469055176\n",
      "3375/3375 [==============================] - 31s 9ms/step\n",
      "comm_round: 3 | global_training_acc: 91.107% | global_training_loss: 0.2721060812473297\n",
      "375/375 [==============================] - 3s 9ms/step\n",
      "comm_round: 3 | global_acc: 90.783% | global_loss: 0.2873910069465637\n",
      "3375/3375 [==============================] - 31s 9ms/step\n",
      "comm_round: 4 | global_training_acc: 91.714% | global_training_loss: 0.2567863464355469\n",
      "375/375 [==============================] - 4s 9ms/step\n",
      "comm_round: 4 | global_acc: 91.083% | global_loss: 0.2798503041267395\n",
      "3375/3375 [==============================] - 31s 9ms/step\n",
      "comm_round: 5 | global_training_acc: 92.011% | global_training_loss: 0.2402237057685852\n",
      "375/375 [==============================] - 3s 9ms/step\n",
      "comm_round: 5 | global_acc: 91.167% | global_loss: 0.26955243945121765\n",
      "3375/3375 [==============================] - 31s 9ms/step\n",
      "comm_round: 6 | global_training_acc: 92.385% | global_training_loss: 0.2280786633491516\n",
      "375/375 [==============================] - 3s 9ms/step\n",
      "comm_round: 6 | global_acc: 91.408% | global_loss: 0.2627168595790863\n",
      "3375/3375 [==============================] - 31s 9ms/step\n",
      "comm_round: 7 | global_training_acc: 92.907% | global_training_loss: 0.21240565180778503\n",
      "375/375 [==============================] - 3s 9ms/step\n",
      "comm_round: 7 | global_acc: 91.792% | global_loss: 0.25369882583618164\n",
      "3375/3375 [==============================] - 31s 9ms/step\n",
      "comm_round: 8 | global_training_acc: 93.306% | global_training_loss: 0.2005910724401474\n",
      "375/375 [==============================] - 4s 9ms/step\n",
      "comm_round: 8 | global_acc: 91.958% | global_loss: 0.2513502240180969\n",
      "3375/3375 [==============================] - 31s 9ms/step\n",
      "comm_round: 9 | global_training_acc: 93.677% | global_training_loss: 0.18848732113838196\n",
      "375/375 [==============================] - 3s 9ms/step\n",
      "comm_round: 9 | global_acc: 92.125% | global_loss: 0.24072475731372833\n",
      "3375/3375 [==============================] - 31s 9ms/step\n",
      "comm_round: 10 | global_training_acc: 93.960% | global_training_loss: 0.18067416548728943\n",
      "375/375 [==============================] - 3s 9ms/step\n",
      "comm_round: 10 | global_acc: 92.275% | global_loss: 0.23922474682331085\n",
      "3375/3375 [==============================] - 31s 9ms/step\n",
      "comm_round: 11 | global_training_acc: 94.271% | global_training_loss: 0.16925837099552155\n",
      "375/375 [==============================] - 4s 9ms/step\n",
      "comm_round: 11 | global_acc: 92.392% | global_loss: 0.23261679708957672\n",
      "3375/3375 [==============================] - 32s 9ms/step\n",
      "comm_round: 12 | global_training_acc: 94.434% | global_training_loss: 0.16375087201595306\n",
      "375/375 [==============================] - 4s 9ms/step\n",
      "comm_round: 12 | global_acc: 92.425% | global_loss: 0.23704980313777924\n",
      "3375/3375 [==============================] - 32s 9ms/step\n",
      "comm_round: 13 | global_training_acc: 94.662% | global_training_loss: 0.15454412996768951\n",
      "375/375 [==============================] - 4s 9ms/step\n",
      "comm_round: 13 | global_acc: 92.492% | global_loss: 0.2382272481918335\n",
      "3375/3375 [==============================] - 31s 9ms/step\n",
      "comm_round: 14 | global_training_acc: 94.984% | global_training_loss: 0.14705249667167664\n",
      "375/375 [==============================] - 3s 9ms/step\n",
      "comm_round: 14 | global_acc: 92.708% | global_loss: 0.23699548840522766\n",
      "3375/3375 [==============================] - 32s 9ms/step\n",
      "comm_round: 15 | global_training_acc: 95.194% | global_training_loss: 0.13959157466888428\n",
      "375/375 [==============================] - 3s 9ms/step\n",
      "comm_round: 15 | global_acc: 92.758% | global_loss: 0.23544596135616302\n",
      "3375/3375 [==============================] - 31s 9ms/step\n",
      "comm_round: 16 | global_training_acc: 95.417% | global_training_loss: 0.131656214594841\n",
      "375/375 [==============================] - 3s 9ms/step\n",
      "comm_round: 16 | global_acc: 92.733% | global_loss: 0.23410283029079437\n",
      "3375/3375 [==============================] - 32s 9ms/step\n",
      "comm_round: 17 | global_training_acc: 95.622% | global_training_loss: 0.12538261711597443\n",
      "375/375 [==============================] - 3s 9ms/step\n",
      "comm_round: 17 | global_acc: 92.842% | global_loss: 0.23693643510341644\n",
      "3375/3375 [==============================] - 31s 9ms/step\n",
      "comm_round: 18 | global_training_acc: 95.740% | global_training_loss: 0.12040597200393677\n",
      "375/375 [==============================] - 3s 9ms/step\n",
      "comm_round: 18 | global_acc: 92.775% | global_loss: 0.24283388257026672\n",
      "3375/3375 [==============================] - 31s 9ms/step\n",
      "comm_round: 19 | global_training_acc: 95.962% | global_training_loss: 0.11516617983579636\n",
      "375/375 [==============================] - 3s 9ms/step\n",
      "comm_round: 19 | global_acc: 92.775% | global_loss: 0.24839843809604645\n",
      "3375/3375 [==============================] - 31s 9ms/step\n",
      "comm_round: 20 | global_training_acc: 96.131% | global_training_loss: 0.10991724580526352\n",
      "375/375 [==============================] - 3s 9ms/step\n",
      "comm_round: 20 | global_acc: 92.842% | global_loss: 0.24930451810359955\n",
      "3375/3375 [==============================] - 48s 14ms/step\n",
      "comm_round: 21 | global_training_acc: 96.239% | global_training_loss: 0.10504034906625748\n",
      "375/375 [==============================] - 4s 9ms/step\n",
      "comm_round: 21 | global_acc: 92.725% | global_loss: 0.2551226019859314\n",
      "3375/3375 [==============================] - 32s 9ms/step\n",
      "comm_round: 22 | global_training_acc: 96.465% | global_training_loss: 0.09846746921539307\n",
      "375/375 [==============================] - 3s 9ms/step\n",
      "comm_round: 22 | global_acc: 92.800% | global_loss: 0.2565435767173767\n",
      "3375/3375 [==============================] - 31s 9ms/step\n",
      "comm_round: 23 | global_training_acc: 96.669% | global_training_loss: 0.0937313511967659\n",
      "375/375 [==============================] - 3s 9ms/step\n",
      "comm_round: 23 | global_acc: 92.708% | global_loss: 0.2677559554576874\n",
      "3375/3375 [==============================] - 32s 9ms/step\n",
      "comm_round: 24 | global_training_acc: 96.831% | global_training_loss: 0.08859488368034363\n",
      "375/375 [==============================] - 3s 9ms/step\n",
      "comm_round: 24 | global_acc: 92.575% | global_loss: 0.27058145403862\n"
     ]
    }
   ],
   "source": [
    "#initialize Central model\n",
    "rnn_central = RNNModel()\n",
    "central_model = rnn_central.build(4)\n",
    "best_model = rnn_central.build(4)\n",
    "\n",
    "#commence global training loop\n",
    "for comm_round in range(comms_round):\n",
    "\n",
    "    # get the Central model's weights - will serve as the initial weights for all Subset models\n",
    "    central_weights = central_model.get_weights()\n",
    "\n",
    "    #initial list to collect subset model weights after scalling\n",
    "    scaled_subset_weight_list = list()\n",
    "\n",
    "    #randomize subset data - using keys\n",
    "    subsets= list(subsets_batched.keys())\n",
    "    random.shuffle(subsets)\n",
    "\n",
    "    #loop through each subset and create new subset model\n",
    "    for subset in subsets:\n",
    "        rnn_subset = RNNModel()\n",
    "        subset_model = rnn_subset.build(4)\n",
    "        subset_model.compile(loss=loss,\n",
    "                      optimizer=optimizer,\n",
    "                      metrics=metrics)\n",
    "\n",
    "        #set subset model weight to the weight of the Central model\n",
    "        subset_model.set_weights(central_weights)\n",
    "\n",
    "        #fit subset model with subset's data\n",
    "        subset_model.fit(subsets_batched[subset], epochs=E, verbose=0)\n",
    "\n",
    "        #scale the model weights and add to list\n",
    "        scaling_factor = weight_scalling_factor(subsets_batched, subset)\n",
    "        scaled_weights = scale_model_weights(subset_model.get_weights(), scaling_factor)\n",
    "        scaled_subset_weight_list.append(scaled_weights)\n",
    "\n",
    "        #clear session to free memory after each global epoch\n",
    "        K.clear_session()\n",
    "\n",
    "    #to get the average over all the subset models, we simply take the sum of the scaled weights\n",
    "    average_weights = sum_scaled_weights(scaled_subset_weight_list)\n",
    "\n",
    "    #update Central model\n",
    "    central_model.set_weights(average_weights)\n",
    "\n",
    "    #test Central model and print out metrics after each global epoch\n",
    "    for(training_sequences, y_train) in train_batched:\n",
    "        central_train_acc, central_train_loss = test_train_model(training_sequences, y_train, central_model, comm_round)\n",
    "        Tr_Accu.append(central_train_acc)\n",
    "        Tr_Loss.append(central_train_loss)\n",
    "    for(val_sequences, y_val) in val_batched:\n",
    "        central_acc, central_loss = test_model(val_sequences, y_val, central_model, comm_round)\n",
    "        Accu.append(central_acc)\n",
    "        Loss.append(central_loss)\n",
    "\n",
    "    if central_acc == max(Accu):\n",
    "        best_model.set_weights(average_weights)"
   ]
  },
  {
   "cell_type": "markdown",
   "metadata": {
    "id": "tDOEPzDnE-m_"
   },
   "source": [
    "# **Model Validation**"
   ]
  },
  {
   "cell_type": "code",
   "execution_count": null,
   "metadata": {
    "colab": {
     "background_save": true
    },
    "id": "M-MAD_qk_r36",
    "outputId": "6ff36f84-4fa7-4c55-ca50-fe43ee2db996"
   },
   "outputs": [
    {
     "name": "stdout",
     "output_type": "stream",
     "text": [
      "375/375 [==============================] - 6s 9ms/step\n"
     ]
    },
    {
     "data": {
      "image/png": "[encoded data removed]",
      "text/plain": [
       "<Figure size 640x480 with 2 Axes>"
      ]
     },
     "metadata": {},
     "output_type": "display_data"
    }
   ],
   "source": [
    "pred = tf.nn.softmax(best_model.predict(val_sequences))\n",
    "y_pred=np.argmax(pred,axis=1)\n",
    "rounded_labels=np.argmax(y_val, axis=1)\n",
    "Confusion_Matrix = sklearn.metrics.confusion_matrix(rounded_labels, y_pred)\n",
    "Disp = ConfusionMatrixDisplay(Confusion_Matrix)\n",
    "Disp.plot()\n",
    "plt.show()"
   ]
  },
  {
   "cell_type": "code",
   "execution_count": null,
   "metadata": {
    "colab": {
     "background_save": true
    },
    "id": "PifDgLXE_vbE",
    "outputId": "6cf2a019-c224-4101-fe7e-0eb9cba39ca1"
   },
   "outputs": [
    {
     "name": "stdout",
     "output_type": "stream",
     "text": [
      "375/375 [==============================] - 3s 9ms/step\n",
      "ROC_AUC Score: 0.9891284261381338\n",
      "Cohen_Kappa Score: 0.9045314002318772\n",
      "F1 Score: 0.9287212224872847\n",
      "Matthews Correlation Coefficient: 0.9046525869992296\n",
      "Log Loss: 0.2493045174886051\n",
      "Accuracy: 0.9284166666666667\n"
     ]
    }
   ],
   "source": [
    "y_pred_proba = tf.nn.softmax(best_model.predict(val_sequences))\n",
    "\n",
    "ROC_AUC = roc_auc_score(rounded_labels, y_pred_proba, multi_class='ovr')\n",
    "Cohen_Kappa = cohen_kappa_score(rounded_labels, y_pred)\n",
    "F1 = f1_score(rounded_labels, y_pred, average='macro')\n",
    "Matthews = matthews_corrcoef(rounded_labels, y_pred)\n",
    "Log = log_loss(rounded_labels, y_pred_proba)\n",
    "Accuracy = accuracy_score(rounded_labels, y_pred)\n",
    "\n",
    "print('ROC_AUC Score:', ROC_AUC)\n",
    "print('Cohen_Kappa Score:', Cohen_Kappa)\n",
    "print('F1 Score:', F1)\n",
    "print('Matthews Correlation Coefficient:', Matthews)\n",
    "print('Log Loss:', Log)\n",
    "print('Accuracy:', Accuracy)"
   ]
  },
  {
   "cell_type": "code",
   "execution_count": null,
   "metadata": {
    "colab": {
     "background_save": true
    },
    "id": "PNEPiTmo_y9v",
    "outputId": "47424563-2816-46bb-fa36-f79c0bfcfc08"
   },
   "outputs": [
    {
     "data": {
      "text/plain": [
       "(0.0, 0.45)"
      ]
     },
     "execution_count": 41,
     "metadata": {},
     "output_type": "execute_result"
    },
    {
     "data": {
      "image/png": "[encoded data removed]",
      "text/plain": [
       "<Figure size 640x480 with 1 Axes>"
      ]
     },
     "metadata": {},
     "output_type": "display_data"
    },
    {
     "data": {
      "image/png": "[encoded data removed]",
      "text/plain": [
       "<Figure size 640x480 with 1 Axes>"
      ]
     },
     "metadata": {},
     "output_type": "display_data"
    }
   ],
   "source": [
    "#-----------------------------------------------------------\n",
    "# Retrieve a list of list results on training and test data\n",
    "# sets for each training epoch\n",
    "#-----------------------------------------------------------\n",
    "acc      = Tr_Accu\n",
    "val_acc  = Accu\n",
    "loss     = Tr_Loss\n",
    "val_loss = Loss\n",
    "\n",
    "epochs   = range(1,len(acc)+1) # Get number of epochs\n",
    "\n",
    "#------------------------------------------------\n",
    "# Plot training and validation accuracy per epoch\n",
    "#------------------------------------------------\n",
    "plt.figure()\n",
    "plt.plot  ( epochs,     acc )\n",
    "plt.plot  ( epochs, val_acc, color = 'g')\n",
    "#plt.title ('Training and Validation Accuracy with FedNet Implementation on CIFAR-10')\n",
    "plt.legend(['Training Accuracy','Validation Accuracy'])\n",
    "plt.xlabel('Comm. Rounds')\n",
    "plt.ylabel('Accuracy')\n",
    "plt.ylim(0.85,0.99)\n",
    "\n",
    "#------------------------------------------------\n",
    "# Plot training and validation loss per epoch\n",
    "#------------------------------------------------\n",
    "plt.figure()\n",
    "plt.plot  ( epochs,     loss )\n",
    "plt.plot  ( epochs, val_loss, color = 'g' )\n",
    "#plt.title ('Training and Validation Loss with FedNet Implementation on CIFAR-10')\n",
    "plt.legend(['Training Loss','Validation Loss'])\n",
    "plt.xlabel('Comm. Rounds')\n",
    "plt.ylabel('Loss')\n",
    "plt.ylim(0,0.45)"
   ]
  },
  {
   "cell_type": "markdown",
   "metadata": {
    "id": "Et6i9R2YbloY"
   },
   "source": [
    "## **Test Set Evaluation**"
   ]
  },
  {
   "cell_type": "code",
   "execution_count": null,
   "metadata": {
    "colab": {
     "background_save": true
    },
    "id": "_32XgYNdXsc9",
    "outputId": "6e94eb44-2841-4b7a-cc34-e77254e26b69"
   },
   "outputs": [
    {
     "name": "stdout",
     "output_type": "stream",
     "text": [
      "238/238 [==============================] - 4s 9ms/step\n"
     ]
    },
    {
     "data": {
      "image/png": "[encoded data removed]",
      "text/plain": [
       "<Figure size 640x480 with 2 Axes>"
      ]
     },
     "metadata": {},
     "output_type": "display_data"
    },
    {
     "name": "stdout",
     "output_type": "stream",
     "text": [
      "238/238 [==============================] - 2s 10ms/step\n",
      "ROC_AUC Score: 0.9889718144044322\n",
      "Cohen_Kappa Score: 0.9066666666666666\n",
      "F1 Score: 0.9300668404170901\n",
      "Matthews Correlation Coefficient: 0.906819344188888\n",
      "Log Loss: 0.24670618991839588\n",
      "Accuracy: 0.93\n"
     ]
    }
   ],
   "source": [
    "num_sentences = 0\n",
    "test_corpus = []\n",
    "test_size = 7600\n",
    "with open(\"/content/drive/MyDrive/IAR Research Grant/Data/Text Datasets/AG_test.csv\", encoding=\"utf8\") as csvfile:\n",
    "    reader = csv.reader(csvfile, delimiter=',')\n",
    "    next(reader)\n",
    "    for row in reader:\n",
    "        list_item=[]\n",
    "\n",
    "        #Creating list items where the first item is the text, found in row[0], and the second is the label.\n",
    "        sentence = row[0]\n",
    "        list_item.append(sentence)\n",
    "        list_item.append(row[1])\n",
    "\n",
    "        num_sentences = num_sentences + 1\n",
    "        test_corpus.append(list_item)\n",
    "\n",
    "\n",
    "test_sentences=[]\n",
    "test_labels=[]\n",
    "random.shuffle(test_corpus)\n",
    "for x in range(test_size):\n",
    "    test_sentences.append(test_corpus[x][0])\n",
    "    test_labels.append(test_corpus[x][1])\n",
    "\n",
    "test_word_index = tokenizer.word_index\n",
    "vocab_size=len(test_word_index)\n",
    "\n",
    "Test_sequences = tokenizer.texts_to_sequences(test_sentences)\n",
    "Test_padded = pad_sequences(Test_sequences, padding='post', maxlen = max_length, truncating=trunc_type)\n",
    "\n",
    "Test_sequences = np.array(Test_padded)\n",
    "Test_labels = np.array(test_labels)\n",
    "\n",
    "y_test = lb.fit_transform(Test_labels)\n",
    "\n",
    "pred = tf.nn.softmax(best_model.predict(Test_sequences))\n",
    "y_pred=np.argmax(pred,axis=1)\n",
    "rounded_labels=np.argmax(y_test, axis=1)\n",
    "Confusion_Matrix = sklearn.metrics.confusion_matrix(rounded_labels, y_pred)\n",
    "Disp = ConfusionMatrixDisplay(Confusion_Matrix)\n",
    "Disp.plot()\n",
    "plt.show()\n",
    "\n",
    "y_pred_proba = tf.nn.softmax(best_model.predict(Test_sequences))\n",
    "\n",
    "ROC_AUC = roc_auc_score(rounded_labels, y_pred_proba, multi_class='ovr')\n",
    "Cohen_Kappa = cohen_kappa_score(rounded_labels, y_pred)\n",
    "F1 = f1_score(rounded_labels, y_pred, average='macro')\n",
    "Matthews = matthews_corrcoef(rounded_labels, y_pred)\n",
    "Log = log_loss(rounded_labels, y_pred_proba)\n",
    "Accuracy = accuracy_score(rounded_labels, y_pred)\n",
    "\n",
    "print('ROC_AUC Score:', ROC_AUC)\n",
    "print('Cohen_Kappa Score:', Cohen_Kappa)\n",
    "print('F1 Score:', F1)\n",
    "print('Matthews Correlation Coefficient:', Matthews)\n",
    "print('Log Loss:', Log)\n",
    "print('Accuracy:', Accuracy)\n"
   ]
  },
  {
   "cell_type": "markdown",
   "metadata": {
    "id": "6hIJuQdFNeFF"
   },
   "source": [
    "## **Saving the Model**"
   ]
  },
  {
   "cell_type": "code",
   "execution_count": null,
   "metadata": {
    "colab": {
     "base_uri": "https://localhost:8080/"
    },
    "id": "ryGoUkMcIVij",
    "outputId": "f01c6425-3f10-4bbe-9c90-1da746f1b6ad"
   },
   "outputs": [
    {
     "name": "stderr",
     "output_type": "stream",
     "text": [
      "/usr/local/lib/python3.10/dist-packages/keras/src/engine/training.py:3103: UserWarning: You are saving your model as an HDF5 file via `model.save()`. This file format is considered legacy. We recommend using instead the native Keras format, e.g. `model.save('my_model.keras')`.\n",
      "  saving_api.save_model(\n",
      "WARNING:tensorflow:Compiled the loaded model, but the compiled metrics have yet to be built. `model.compile_metrics` will be empty until you train or evaluate the model.\n"
     ]
    }
   ],
   "source": [
    "best_model.save('AG_News_Central_model.h5')"
   ]
  },
  {
   "cell_type": "code",
   "execution_count": null,
   "metadata": {
    "id": "pykVxq1aJjYn"
   },
   "outputs": [],
   "source": [
    "best_model.save('/content/drive/MyDrive/IAR Research Grant/Codes/Refined Codes/AG_News_Central_model.keras')"
   ]
  }
 ],
 "metadata": {
  "accelerator": "GPU",
  "colab": {
   "gpuType": "L4",
   "provenance": []
  },
  "kernelspec": {
   "display_name": "Python 3 (ipykernel)",
   "language": "python",
   "name": "python3"
  },
  "language_info": {
   "codemirror_mode": {
    "name": "ipython",
    "version": 3
   },
   "file_extension": ".py",
   "mimetype": "text/x-python",
   "name": "python",
   "nbconvert_exporter": "python",
   "pygments_lexer": "ipython3",
   "version": "3.9.18"
  }
 },
 "nbformat": 4,
 "nbformat_minor": 4
}
